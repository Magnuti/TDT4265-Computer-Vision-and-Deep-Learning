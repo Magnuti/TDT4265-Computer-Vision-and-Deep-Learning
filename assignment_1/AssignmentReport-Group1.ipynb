{
 "cells": [
  {
   "source": [
    "# Assignment 1 Report"
   ],
   "cell_type": "markdown",
   "metadata": {}
  },
  {
   "source": [
    "# Task 1"
   ],
   "cell_type": "markdown",
   "metadata": {}
  },
  {
   "source": [
    "## task 1a)\n",
    "\n",
    "<img src=\"res/task1a_1.png\" width=\"700\" />\n",
    "<img src=\"res/task1a_2.png\" width=\"700\" />\n",
    "<img src=\"res/task1a_3.png\" width=\"700\" />"
   ],
   "cell_type": "markdown",
   "metadata": {}
  },
  {
   "cell_type": "markdown",
   "metadata": {},
   "source": [
    "## task 1b)\n",
    "\n",
    "<img src=\"res/task1b_1.png\" width=\"700\" />\n",
    "<img src=\"res/task1b_2.png\" width=\"700\" />"
   ]
  },
  {
   "cell_type": "markdown",
   "metadata": {},
   "source": [
    "# Task 2"
   ]
  },
  {
   "cell_type": "markdown",
   "metadata": {},
   "source": [
    "## Task 2b)\n",
    "![](task2b_binary_train_loss.png)"
   ]
  },
  {
   "cell_type": "markdown",
   "metadata": {},
   "source": [
    "## Task 2c)\n",
    "![](task2b_binary_train_accuracy.png)"
   ]
  },
  {
   "cell_type": "markdown",
   "metadata": {},
   "source": [
    "## Task 2d)\n",
    "Early stopped at epoch 33."
   ]
  },
  {
   "cell_type": "markdown",
   "metadata": {},
   "source": [
    "## Task 2e)\n",
    "With shuffling the validation accuracy has less spikes because the spikes are \"flattened\" by the shuffling. Without shuffling we would see these difficult batches repeating, because the same difficult batches are trained/validated throughout the training process. With shuffling, however, we rarely see the same batch multiple times, so the difficult batch is evenly distributed among the other batches, resulting in less spikes.\n",
    "\n",
    "![](task2e_train_accuracy_shuffle_difference.png)"
   ]
  },
  {
   "cell_type": "markdown",
   "metadata": {},
   "source": [
    "# Task 3"
   ]
  },
  {
   "cell_type": "markdown",
   "metadata": {},
   "source": [
    "## Task 3b)\n",
    "![](task3b_softmax_train_loss.png)"
   ]
  },
  {
   "cell_type": "markdown",
   "metadata": {},
   "source": [
    "## Task 3c)\n",
    "![](task3b_softmax_train_accuracy.png)"
   ]
  },
  {
   "cell_type": "markdown",
   "metadata": {},
   "source": [
    "## Task 3d)\n",
    "As we can see in the accuracy graph in 3c), the model has high training accuracy but lower validation accuracy; this is a sign of overfitting as the model works well on training data but not so well on new unseen data."
   ]
  },
  {
   "cell_type": "markdown",
   "metadata": {},
   "source": [
    "# Task 4"
   ]
  },
  {
   "cell_type": "markdown",
   "metadata": {},
   "source": [
    "## Task 4a)\n",
    "\n",
    "<img src=\"res/task4a_1.png\" width=\"700\" />\n",
    "<img src=\"res/task4a_2.png\" width=\"700\" />\n"
   ]
  },
  {
   "cell_type": "markdown",
   "metadata": {},
   "source": [
    "## Task 4b)\n",
    "\n",
    "The model with λ=1.0 (bottom) is less noisy than the one with λ=0.0 (top) because L2 regularization restricts the weights from becoming too large, which is the whole point of regularization (to penalize the model for being too complex).\n",
    "\n",
    "![](task4b_softmax_weight.png)"
   ]
  },
  {
   "cell_type": "markdown",
   "metadata": {},
   "source": [
    "## Task 4c)\n",
    "\n",
    "![](task4c_l2_reg_accuracy.png)"
   ]
  },
  {
   "cell_type": "markdown",
   "metadata": {},
   "source": [
    "## Task 4d)\n",
    "\n",
    "The validation error degrades when we apply higher regularization values because regularization restricts the model from becoming too complex, which in this case backfires, resulting in a more uncertain model. A less complex model can prevent overfitting, but it can also prevent the model from learning correctly, possibly resulting in an underfitted model."
   ]
  },
  {
   "cell_type": "markdown",
   "metadata": {},
   "source": [
    "## Task 4e)\n",
    "\n",
    "We can see that as λ decreases, the L2 norm increases. This means that higher λ results in less large weights and many smaller weights instead. In other words, higher λ values result in more punishing of large weights.\n",
    "\n",
    "![](task4d_l2_reg_norms.png)"
   ]
  }
 ],
 "metadata": {
  "kernelspec": {
   "display_name": "Python 3.8.1 64-bit ('py38': conda)",
   "language": "python",
   "name": "python38164bitpy38condac1f68ca5407a4349b0d7e37676f2fbb3"
  },
  "language_info": {
   "codemirror_mode": {
    "name": "ipython",
    "version": 3
   },
   "file_extension": ".py",
   "mimetype": "text/x-python",
   "name": "python",
   "nbconvert_exporter": "python",
   "pygments_lexer": "ipython3",
   "version": "3.8.1"
  }
 },
 "nbformat": 4,
 "nbformat_minor": 4
}