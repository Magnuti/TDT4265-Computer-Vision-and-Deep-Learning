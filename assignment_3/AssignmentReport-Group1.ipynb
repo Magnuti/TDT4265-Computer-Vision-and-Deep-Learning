{
 "cells": [
  {
   "cell_type": "markdown",
   "metadata": {},
   "source": [
    "# Assignment 1 Report"
   ]
  },
  {
   "cell_type": "markdown",
   "metadata": {},
   "source": [
    "# Task 1"
   ]
  },
  {
   "cell_type": "markdown",
   "metadata": {},
   "source": [
    "## task 1a)\n",
    "\n",
    "This solution is taken from my solution to task 1f) in image processing assingment 1 in TDT4195 previous semester, as the task was identical to this task. I chose to handle borders with **same padding**, becasue the output dimension should be equal to the input dimension. Furthermore, the padding is a **clip filter** as the padding consists of only zeros. This was the simplest to implement.\n",
    "\n",
    "![](task1_a.png)"
   ]
  },
  {
   "cell_type": "markdown",
   "metadata": {},
   "source": [
    "## task 1b)\n",
    "\n",
    "The convolutional layer, as it does not care about the feature's position.\n",
    "\n",
    "## task 1c)\n",
    "\n",
    "2 on each side.\n",
    "\n",
    "![](task1_c.png)\n",
    "\n",
    "## task 1d)\n",
    "\n",
    "For a sqaure image, with a square filter we have:\n",
    "\n",
    "$outputDim = (inputDim - filterDim + 2 * padding) / stride + 1$  \n",
    "$(outputDim - 1) * stride = inputDim - filterDim + 2 * padding$  \n",
    "$(outputDim - 1) * stride - inputDim- 2 * padding = -filterDim$  \n",
    "$filterDim = -((outputDim - 1) * stride - inputDim - 2 * padding)$  \n",
    "$filterDim = -(outputDim - 1) * stride + inputDim + 2 * padding)$  \n",
    "$filterDim = -(504 - 1) * 1 + 2 * 0 + 512)$  \n",
    "$filterDim = - 503 + 512 = 9$\n",
    "\n",
    "Thus, each kernel is $9x9$.\n",
    "\n",
    "## task 1e)\n",
    "\n",
    "If we perform pooling/subsampling with a 2x2 kernel on a 504x504 layer with a stride of 2, we will simply half the image's height and width, because each 2x2 pixel-block will be reduced to a single pixel. Thus, the output, after the pooling layer, is 252x252.\n",
    "\n",
    "## task 1f)\n",
    "\n",
    "$outputDim = (252 - 3 + 2 * 0) / 1 + 1 = 249 + 0 + 1 = 250$\n",
    "\n",
    "Thus, the output dimension is 250x250.\n",
    "\n",
    "## task 1g)\n",
    "\n",
    "A square-filter convolutional layer has $F^2*inputChannels*outputChannels+outputChannels$ parameters, where bias is also given by $outputChannels$.\n",
    "\n",
    "Layer 1: $5^2*3*32+32=2,432$  \n",
    "Layer 2: $5^2*32*64+64=51,264$  \n",
    "Layer 3: $5^2*64*128+128=204,928$  \n",
    "\n",
    "Now, we need to find the input dimension to the fully connected network. After three 2x2 max-pooling operations with a stride of 2, and an input image of 32x32, we get $32/2^3=4$. We have 128 such images (i.e., channels). Thus, the FCNN has an input dimension of $4^2*128$\n",
    "\n",
    "Layer 4: $4^2*128*64+64=131,136$  \n",
    "Layer 5: $64*10+10=650$  \n",
    "\n",
    "For a total of $2,432+51,264+204,928+131,136+650=390,410$ parameters in the network."
   ]
  },
  {
   "cell_type": "markdown",
   "metadata": {},
   "source": [
    "# Task 2\n",
    "\n",
    "### Task 2a)\n",
    "\n",
    "![](plots/task2_plot.png)\n",
    "\n",
    "### Task 2b)\n",
    "\n",
    "Training Loss: 0.49  \n",
    "Validation Loss: 0.85  \n",
    "Testing Loss: 0.87  \n",
    "\n",
    "Training Accuracy: 0.830  \n",
    "Validation Accuracy: 0.712  \n",
    "Testing Accuracy: 0.719  "
   ]
  },
  {
   "cell_type": "markdown",
   "metadata": {},
   "source": [
    "# Task 3"
   ]
  },
  {
   "cell_type": "markdown",
   "metadata": {},
   "source": [
    "### Task 3a)\n",
    "### Task 3b)\n",
    "### Task 3c)\n",
    "### Task 3d)\n",
    "### Task 3e)\n",
    "### Task 3f)"
   ]
  },
  {
   "cell_type": "markdown",
   "metadata": {},
   "source": [
    "# Task 4"
   ]
  },
  {
   "cell_type": "markdown",
   "metadata": {},
   "source": [
    "## Task 4a)\n",
    "\n",
    "FILL IN ANSWER. "
   ]
  },
  {
   "cell_type": "markdown",
   "metadata": {},
   "source": [
    "## Task 4b)\n",
    "FILL IN ANSWER\n"
   ]
  },
  {
   "cell_type": "markdown",
   "metadata": {},
   "source": [
    "## Task 4c)\n",
    "FILL IN ANSWER"
   ]
  }
 ],
 "metadata": {
  "kernelspec": {
   "display_name": "Python 3.8.1 64-bit ('py38': conda)",
   "language": "python",
   "name": "python38164bitpy38condac1f68ca5407a4349b0d7e37676f2fbb3"
  },
  "language_info": {
   "codemirror_mode": {
    "name": "ipython",
    "version": 3
   },
   "file_extension": ".py",
   "mimetype": "text/x-python",
   "name": "python",
   "nbconvert_exporter": "python",
   "pygments_lexer": "ipython3",
   "version": "3.8.1"
  }
 },
 "nbformat": 4,
 "nbformat_minor": 4
}