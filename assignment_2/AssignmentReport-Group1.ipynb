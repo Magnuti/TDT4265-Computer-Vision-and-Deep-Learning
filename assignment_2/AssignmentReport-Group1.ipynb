{
 "cells": [
  {
   "cell_type": "markdown",
   "metadata": {},
   "source": [
    "# Assignment 1 Report"
   ]
  },
  {
   "cell_type": "markdown",
   "metadata": {},
   "source": [
    "This is an outline for your report to ease the amount of work required to create your report. Jupyter notebook supports markdown, and I recommend you to check out this [cheat sheet](https://github.com/adam-p/markdown-here/wiki/Markdown-Cheatsheet). If you are not familiar with markdown.\n",
    "\n",
    "Before delivery, **remember to convert this file to PDF**. You can do it in two ways:\n",
    "1. Print the webpage (ctrl+P or cmd+P)\n",
    "2. Export with latex. This is somewhat more difficult, but you'll get somehwat of a \"prettier\" PDF. Go to File -> Download as -> PDF via LaTeX. You might have to install nbconvert and pandoc through conda; `conda install nbconvert pandoc`."
   ]
  },
  {
   "cell_type": "markdown",
   "metadata": {},
   "source": [
    "# Task 1"
   ]
  },
  {
   "cell_type": "markdown",
   "metadata": {},
   "source": [
    "## task 1a)\n",
    "\n",
    "Fill in task 1a image of hand-written notes which are easy to read, or latex equations here"
   ]
  },
  {
   "cell_type": "markdown",
   "metadata": {},
   "source": [
    "## task 1a)\n",
    "\n",
    "Fill in task 1a image of hand-written notes which are easy to read, or latex equations here"
   ]
  },
  {
   "cell_type": "markdown",
   "metadata": {},
   "source": [
    "# Task 2"
   ]
  },
  {
   "cell_type": "markdown",
   "metadata": {},
   "source": [
    "## Task 2c)\n",
    "![](task2c_train_loss.png)"
   ]
  },
  {
   "cell_type": "markdown",
   "metadata": {},
   "source": [
    "## Task 2d)\n",
    "\n",
    "The neural network has 784 input nodes + 1 for the bias trick, 64 hidden nodes and 10 outputs nodes. The input layer does not have weights/bias so we only calculate parameters for the hidden and outputs layers. All layers are fully connected.\n",
    "\n",
    "Hidden layer:\n",
    "64 * 785 = 50240\n",
    "\n",
    "Output layer:\n",
    "10 * 64 = 640\n",
    "\n",
    "For a total of 50240 + 640 = 50880 parameters."
   ]
  },
  {
   "cell_type": "markdown",
   "metadata": {},
   "source": [
    "# Task 3"
   ]
  },
  {
   "cell_type": "markdown",
   "metadata": {},
   "source": [
    "As we can see on the plot each improvement step also improves the model's loss/accuracy, except for the model with momentum.\n",
    "\n",
    "Weight initalization results in earlier stopping and this combined with the improved sigmoid funcion results in even earlier stopping. However, when we add momentum the needs a longer time to train, as well as the fact that the loss/accuracy is made worse.\n",
    "\n",
    "The green model has a steep learning curve in the beginning which quickly flattens out. This can be a sign of a too high learning rate for that particular case.\n",
    "\n",
    "Momentum does not seem to be a good solution to this problem. As the paper mentiones \"*Momentum can increase speed when the cost surface is highly nonspherical because it damps the size og the step along directions of high curvature thus yielding a larger effective learning rate along the directions of low curvature.*\". One explanation is that momentum is not a good fit for the data, or that the learning rate is too high.\n",
    "\n",
    "![](task3_loss.png)\n",
    "\n",
    "All models also have higher validation accuracy than training accuracy, which can be a sign of overfitting as the model does not work that good on new unseen data, although a final accuracy of around 0.96 is good.\n",
    "\n",
    "![](task3_accuracy.png)"
   ]
  },
  {
   "cell_type": "markdown",
   "metadata": {},
   "source": [
    "# Task 4"
   ]
  },
  {
   "cell_type": "markdown",
   "metadata": {},
   "source": [
    "## Task 4a)\n",
    "\n",
    "FILL IN ANSWER. "
   ]
  },
  {
   "cell_type": "markdown",
   "metadata": {},
   "source": [
    "## Task 4b)\n",
    "FILL IN ANSWER\n"
   ]
  },
  {
   "cell_type": "markdown",
   "metadata": {},
   "source": [
    "## Task 4d)\n",
    "FILL IN ANSWER"
   ]
  },
  {
   "cell_type": "markdown",
   "metadata": {},
   "source": [
    "## Task 4e)\n",
    "FILL IN ANSWER"
   ]
  }
 ],
 "metadata": {
  "kernelspec": {
   "display_name": "Python 3.8.1 64-bit ('py38': conda)",
   "language": "python",
   "name": "python38164bitpy38condac1f68ca5407a4349b0d7e37676f2fbb3"
  },
  "language_info": {
   "codemirror_mode": {
    "name": "ipython",
    "version": 3
   },
   "file_extension": ".py",
   "mimetype": "text/x-python",
   "name": "python",
   "nbconvert_exporter": "python",
   "pygments_lexer": "ipython3",
   "version": "3.8.1"
  }
 },
 "nbformat": 4,
 "nbformat_minor": 4
}